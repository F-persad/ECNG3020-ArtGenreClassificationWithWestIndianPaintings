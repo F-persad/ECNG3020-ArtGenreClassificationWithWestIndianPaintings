{
 "cells": [
  {
   "cell_type": "code",
   "execution_count": 1,
   "metadata": {},
   "outputs": [
    {
     "name": "stdout",
     "output_type": "stream",
     "text": [
      "\n",
      "Starting feature extraction and classification...\n",
      "\n",
      "\n",
      "Processing Feature Set: Edge\n"
     ]
    },
    {
     "name": "stderr",
     "output_type": "stream",
     "text": [
      "Classes: 100%|██████████| 12/12 [02:12<00:00, 11.04s/it]\n"
     ]
    },
    {
     "name": "stdout",
     "output_type": "stream",
     "text": [
      "Splitting dataset...\n",
      "Training KNN (k=1)...\n",
      "KNN (k=1) Accuracy: 18.19%\n",
      "Training KNN (k=10)...\n",
      "KNN (k=10) Accuracy: 20.01%\n",
      "Training Naive Bayes...\n",
      "Naive Bayes Accuracy: 21.77%\n",
      "\n",
      "Processing Feature Set: HSV\n"
     ]
    },
    {
     "name": "stderr",
     "output_type": "stream",
     "text": [
      "Classes: 100%|██████████| 12/12 [00:49<00:00,  4.16s/it]\n"
     ]
    },
    {
     "name": "stdout",
     "output_type": "stream",
     "text": [
      "Splitting dataset...\n",
      "Training KNN (k=1)...\n",
      "KNN (k=1) Accuracy: 29.69%\n",
      "Training KNN (k=10)...\n",
      "KNN (k=10) Accuracy: 34.37%\n",
      "Training Naive Bayes...\n",
      "Naive Bayes Accuracy: 32.36%\n",
      "\n",
      "Processing Feature Set: Pyramid\n"
     ]
    },
    {
     "name": "stderr",
     "output_type": "stream",
     "text": [
      "Classes: 100%|██████████| 12/12 [00:50<00:00,  4.23s/it]\n"
     ]
    },
    {
     "name": "stdout",
     "output_type": "stream",
     "text": [
      "Splitting dataset...\n",
      "Training KNN (k=1)...\n",
      "KNN (k=1) Accuracy: 18.26%\n",
      "Training KNN (k=10)...\n",
      "KNN (k=10) Accuracy: 19.49%\n",
      "Training Naive Bayes...\n",
      "Naive Bayes Accuracy: 32.49%\n",
      "\n",
      "Processing Feature Set: Pyramid+Edge\n"
     ]
    },
    {
     "name": "stderr",
     "output_type": "stream",
     "text": [
      "Classes: 100%|██████████| 12/12 [00:51<00:00,  4.31s/it]\n"
     ]
    },
    {
     "name": "stdout",
     "output_type": "stream",
     "text": [
      "Splitting dataset...\n",
      "Training KNN (k=1)...\n",
      "KNN (k=1) Accuracy: 18.13%\n",
      "Training KNN (k=10)...\n",
      "KNN (k=10) Accuracy: 19.49%\n",
      "Training Naive Bayes...\n",
      "Naive Bayes Accuracy: 28.65%\n",
      "\n",
      "Processing Feature Set: Pyramid+Edge+HSV\n"
     ]
    },
    {
     "name": "stderr",
     "output_type": "stream",
     "text": [
      "Classes: 100%|██████████| 12/12 [00:52<00:00,  4.35s/it]\n"
     ]
    },
    {
     "name": "stdout",
     "output_type": "stream",
     "text": [
      "Splitting dataset...\n",
      "Training KNN (k=1)...\n",
      "KNN (k=1) Accuracy: 18.13%\n",
      "Training KNN (k=10)...\n",
      "KNN (k=10) Accuracy: 19.49%\n",
      "Training Naive Bayes...\n",
      "Naive Bayes Accuracy: 29.37%\n",
      "\n",
      "Final Results Table (Accuracy %):\n",
      "Feature Set              KNN (k=1)   KNN (k=10)  Naive Bayes \n",
      "Edge                     18.19       20.01       21.77       \n",
      "HSV                      29.69       34.37       32.36       \n",
      "Pyramid                  18.26       19.49       32.49       \n",
      "Pyramid+Edge             18.13       19.49       28.65       \n",
      "Pyramid+Edge+HSV         18.13       19.49       29.37       \n",
      "\n",
      "Saving results to Excel...\n",
      "Results saved to results_table.xlsx\n"
     ]
    }
   ],
   "source": [
    "import numpy as np\n",
    "import cv2\n",
    "import os\n",
    "from tqdm import tqdm\n",
    "from sklearn.model_selection import train_test_split\n",
    "from sklearn.neighbors import KNeighborsClassifier\n",
    "from sklearn.naive_bayes import GaussianNB\n",
    "from sklearn.metrics import accuracy_score\n",
    "from skimage.feature import canny\n",
    "import pandas as pd\n",
    "import pywt\n",
    "\n",
    "# Function to apply a steerable filter (example using a simple Gaussian kernel for demonstration)\n",
    "def steerable_filter(image):\n",
    "    # Using a simple Gaussian kernel for demonstration purposes\n",
    "    gray = cv2.cvtColor(image, cv2.COLOR_BGR2GRAY)\n",
    "    kernel = cv2.getGaussianKernel(3, 0.5)\n",
    "    filtered_image = cv2.filter2D(gray, -1, kernel)\n",
    "    return filtered_image.flatten()\n",
    "\n",
    "def extract_hsv(image):\n",
    "    hsv = cv2.cvtColor(image, cv2.COLOR_BGR2HSV)\n",
    "    h, s, v = cv2.split(hsv)\n",
    "    hist = []\n",
    "    for channel in [h, s, v]:\n",
    "        hist_channel = cv2.calcHist([channel], [0], None, [8], [0, 256])\n",
    "        hist_channel = hist_channel.flatten() / np.sum(hist_channel)\n",
    "        hist.append(hist_channel)\n",
    "    return np.concatenate(hist)\n",
    "\n",
    "def extract_edge(image):\n",
    "    # Using steerable filter instead of Canny for edge extraction\n",
    "    edges = steerable_filter(image)\n",
    "    return edges\n",
    "\n",
    "def extract_pyramid(image):\n",
    "    gray = cv2.cvtColor(image, cv2.COLOR_BGR2GRAY)\n",
    "    coeffs = pywt.dwt2(gray, 'bior1.3')\n",
    "    LL, (LH, HL, HH) = coeffs\n",
    "    return np.concatenate([LL.flatten(), LH.flatten(), HL.flatten(), HH.flatten()])\n",
    "\n",
    "def load_features(dataset_path, feature_set, image_size=(128, 128)):\n",
    "    features = []\n",
    "    labels = []\n",
    "    class_folders = [d for d in os.listdir(dataset_path) if os.path.isdir(os.path.join(dataset_path, d))]\n",
    "    \n",
    "    for label, class_name in enumerate(tqdm(class_folders, desc=\"Classes\")):\n",
    "        class_path = os.path.join(dataset_path, class_name)\n",
    "        image_files = [f for f in os.listdir(class_path) if f.lower().endswith(('.png', '.jpg', '.jpeg'))]\n",
    "        \n",
    "        for img_file in tqdm(image_files, desc=f\"Extracting {class_name}\", leave=False):\n",
    "            img_path = os.path.join(class_path, img_file)\n",
    "            image = cv2.imread(img_path)\n",
    "            image = cv2.resize(image, image_size)\n",
    "            feat = []\n",
    "            if 'HSV' in feature_set:\n",
    "                feat.append(extract_hsv(image))\n",
    "            if 'Edge' in feature_set:\n",
    "                feat.append(extract_edge(image))\n",
    "            if 'Pyramid' in feature_set:\n",
    "                feat.append(extract_pyramid(image))\n",
    "            combined = np.concatenate(feat)\n",
    "            features.append(combined)\n",
    "            labels.append(label)\n",
    "    return np.array(features), np.array(labels)\n",
    "\n",
    "dataset_path = r\"D:\\git\\FYP\\Python\\TwoStage\\data\\Dataset1\\Pandora7k_original\"\n",
    "\n",
    "feature_sets = [\n",
    "    'Edge',\n",
    "    'HSV',\n",
    "    'Pyramid',\n",
    "    'Pyramid+Edge',\n",
    "    'Pyramid+Edge+HSV'\n",
    "]\n",
    "\n",
    "results = {}\n",
    "\n",
    "print(\"\\nStarting feature extraction and classification...\\n\")\n",
    "for fset in feature_sets:\n",
    "    print(f\"\\nProcessing Feature Set: {fset}\")\n",
    "    X, y = load_features(dataset_path, fset.split('+'))\n",
    "\n",
    "    print(\"Splitting dataset...\")\n",
    "    X_train, X_test, y_train, y_test = train_test_split(X, y, test_size=0.2, random_state=42)\n",
    "\n",
    "    classifiers = {\n",
    "        'KNN (k=1)': KNeighborsClassifier(n_neighbors=1),\n",
    "        'KNN (k=10)': KNeighborsClassifier(n_neighbors=10),\n",
    "        'Naive Bayes': GaussianNB()\n",
    "    }\n",
    "\n",
    "    results[fset] = {}\n",
    "    for clf_name, clf in classifiers.items():\n",
    "        print(f\"Training {clf_name}...\")\n",
    "        clf.fit(X_train, y_train)\n",
    "        y_pred = clf.predict(X_test)\n",
    "        acc = accuracy_score(y_test, y_pred) * 100\n",
    "        results[fset][clf_name] = acc\n",
    "        print(f\"{clf_name} Accuracy: {acc:.2f}%\")\n",
    "\n",
    "print(\"\\nFinal Results Table (Accuracy %):\")\n",
    "print(f\"{'Feature Set':<25}{'KNN (k=1)':<12}{'KNN (k=10)':<12}{'Naive Bayes':<12}\")\n",
    "for fset in feature_sets:\n",
    "    row = f\"{fset:<25}\"\n",
    "    for clf in ['KNN (k=1)', 'KNN (k=10)', 'Naive Bayes']:\n",
    "        row += f\"{results[fset][clf]:<12.2f}\"\n",
    "    print(row)\n",
    "\n",
    "print(\"\\nSaving results to Excel...\")\n",
    "df = pd.DataFrame.from_dict(results, orient='index')\n",
    "df.reset_index(inplace=True)\n",
    "df.rename(columns={'index': 'Feature Set'}, inplace=True)\n",
    "output_path = 'results_table.xlsx'\n",
    "df.to_excel(output_path, index=False)\n",
    "print(f\"Results saved to {output_path}\")\n"
   ]
  },
  {
   "cell_type": "code",
   "execution_count": null,
   "metadata": {},
   "outputs": [],
   "source": []
  },
  {
   "cell_type": "code",
   "execution_count": null,
   "metadata": {},
   "outputs": [],
   "source": []
  }
 ],
 "metadata": {
  "kernelspec": {
   "display_name": "venv",
   "language": "python",
   "name": "python3"
  },
  "language_info": {
   "codemirror_mode": {
    "name": "ipython",
    "version": 3
   },
   "file_extension": ".py",
   "mimetype": "text/x-python",
   "name": "python",
   "nbconvert_exporter": "python",
   "pygments_lexer": "ipython3",
   "version": "3.11.9"
  }
 },
 "nbformat": 4,
 "nbformat_minor": 2
}
